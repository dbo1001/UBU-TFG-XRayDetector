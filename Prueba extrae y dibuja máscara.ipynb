{
 "cells": [
  {
   "cell_type": "code",
   "execution_count": 4,
   "metadata": {},
   "outputs": [],
   "source": [
    "%matplotlib inline"
   ]
  },
  {
   "cell_type": "code",
   "execution_count": 65,
   "metadata": {},
   "outputs": [
    {
     "name": "stdout",
     "output_type": "stream",
     "text": [
      "[(472, 171, 493, 199)]\n"
     ]
    }
   ],
   "source": [
    "from skimage.io import imread\n",
    "from skimage.measure import label, regionprops\n",
    "\n",
    "import matplotlib.pyplot as plt\n",
    "import matplotlib.patches as patches\n",
    "\n",
    "path1=\"C0001_0001_0.png\"\n",
    "path2=\"C0001_0004_1.png\"\n",
    "path3=\"C0001_0004_0.png\"\n",
    "path4=\"C0001_0015_0.png\"\n",
    "\n",
    "img1 = imread(path1)\n",
    "\n",
    "label_img = label(img1)\n",
    "regions = regionprops(label_img)\n",
    "\n",
    "rectangles = []\n",
    "for reg in regions:\n",
    "    rectangles.append(reg.bbox)\n",
    "    \n",
    "print(rectangles)\n"
   ]
  },
  {
   "cell_type": "code",
   "execution_count": 66,
   "metadata": {},
   "outputs": [
    {
     "data": {
      "image/png": "[encoded data removed]",
      "text/plain": [
       "<Figure size 432x288 with 1 Axes>"
      ]
     },
     "metadata": {},
     "output_type": "display_data"
    }
   ],
   "source": [
    "fig, ax = plt.subplots()\n",
    "ax.imshow(img1, cmap=plt.cm.gray)\n",
    "\n",
    "for rect in rectangles:\n",
    "    y1,x1,y2,x2 = rect\n",
    "    alto = y2-y1\n",
    "    ancho = x2-x1\n",
    "    rect_ui = patches.Rectangle((x1,y1),ancho,alto,\n",
    "                                linewidth=1,\n",
    "                                edgecolor='r',\n",
    "                                facecolor='none')\n",
    "    ax.add_patch(rect_ui)\n"
   ]
  },
  {
   "cell_type": "code",
   "execution_count": null,
   "metadata": {},
   "outputs": [],
   "source": []
  },
  {
   "cell_type": "code",
   "execution_count": null,
   "metadata": {
    "collapsed": true
   },
   "outputs": [],
   "source": []
  }
 ],
 "metadata": {
  "kernelspec": {
   "display_name": "Python 3",
   "language": "python",
   "name": "python3"
  },
  "language_info": {
   "codemirror_mode": {
    "name": "ipython",
    "version": 3
   },
   "file_extension": ".py",
   "mimetype": "text/x-python",
   "name": "python",
   "nbconvert_exporter": "python",
   "pygments_lexer": "ipython3",
   "version": "3.6.10"
  }
 },
 "nbformat": 4,
 "nbformat_minor": 2
}
